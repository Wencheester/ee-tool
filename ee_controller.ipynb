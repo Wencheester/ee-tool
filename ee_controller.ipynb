{
 "cells": [
  {
   "cell_type": "code",
   "id": "initial_id",
   "metadata": {
    "collapsed": true,
    "ExecuteTime": {
     "end_time": "2025-06-30T06:19:16.081545Z",
     "start_time": "2025-06-30T06:19:15.786888Z"
    }
   },
   "source": [
    "import numpy as np\n",
    "import matplotlib.pyplot as plt\n",
    "from ipywidgets import interact, FloatSlider\n",
    "\n",
    "# == 创建 EE 原始图形 ==\n",
    "theta1 = np.linspace(np.pi, 110 * np.pi / 180, int((np.pi - 110 * np.pi / 180) / 0.01) + 1)\n",
    "theta2 = np.linspace(60 * np.pi / 180, np.pi, int((np.pi - 60 * np.pi / 180) / 0.01) + 1)\n",
    "L4 = 0.385\n",
    "\n",
    "EEside = np.concatenate([\n",
    "    31.75 * np.exp(1j * theta1),\n",
    "    [-10.86 + 29.83j,\n",
    "     105.29 + 72.17j,\n",
    "     119.68 + 80.76j,\n",
    "     129.5 + 80.76j,\n",
    "     129.5 + 96j,\n",
    "     55 + 96j,\n",
    "     -148 + 50j,\n",
    "     -160 + 44.7j],\n",
    "    -L4 * 1000 + 49 * np.exp(1j * theta2)\n",
    "]) / 1000\n",
    "\n",
    "EE_full = L4 + np.concatenate([EEside[::-1], np.real(EEside) - 1j * np.imag(EEside)])\n",
    "wafer_radius = 0.15\n",
    "wafer_base = wafer_radius * np.exp(1j * np.linspace(0, 2*np.pi, 200)) + 0.385\n",
    "\n",
    "# == 边界绘图 ==\n",
    "def draw_borders(ax):\n",
    "    x1 = np.linspace(0, 2, 100);     y1 = np.ones_like(x1) * 1.075\n",
    "    x2 = np.linspace(0, 0.8, 100);   y2 = np.ones_like(x2) * 0.5\n",
    "    x9 = np.linspace(1.215, 2, 100); y9 = np.ones_like(x9) * 0.5\n",
    "    y3 = np.linspace(0.5, 0.4, 100); x3 = np.ones_like(y3) * 0.8\n",
    "    y8 = np.linspace(0.4, 0.5, 100); x8 = np.ones_like(y8) * 1.215\n",
    "    x4 = np.linspace(0.8, 0.83, 100); y4 = np.ones_like(x4) * 0.4\n",
    "    x7 = np.linspace(1.185, 1.215, 100); y7 = np.ones_like(x7) * 0.4\n",
    "    y5 = np.linspace(0.4, 0, 100); x5 = np.ones_like(y5) * 0.83\n",
    "    y6 = np.linspace(0, 0.4, 100); x6 = np.ones_like(y6) * 1.185\n",
    "    segments = [(x1, y1), (x2, y2), (x3, y3), (x4, y4), (x5, y5),\n",
    "                (x6, y6), (x7, y7), (x8, y8), (x9, y9)]\n",
    "    for x, y in segments:\n",
    "        ax.plot(x, y, 'r', linewidth=1.5)\n",
    "\n",
    "# == 控制图更新 ==\n",
    "def update_plot(x_shift=0.1, y_shift=0.1, theta_deg=0):\n",
    "    theta = np.deg2rad(theta_deg)\n",
    "    center = x_shift + 1j * y_shift\n",
    "    EE_trans = (EE_full - 0.385) * np.exp(1j * theta) + center\n",
    "    wafer_trans = (wafer_base - 0.385) * np.exp(1j * theta) + center\n",
    "\n",
    "    fig, ax = plt.subplots(figsize=(10, 6))\n",
    "    ax.set_xlim(0, 2)\n",
    "    ax.set_ylim(0, 1.2)\n",
    "    ax.set_aspect('equal')\n",
    "    draw_borders(ax)\n",
    "    ax.fill(EE_trans.real, EE_trans.imag, color='gray', alpha=0.6, label='End Effector')\n",
    "    ax.fill(wafer_trans.real, wafer_trans.imag, color='red', alpha=0.4, label='Wafer')\n",
    "    ax.set_title(f\"EE Center: ({x_shift:.3f}, {y_shift:.3f}) | θ = {theta_deg}°\")\n",
    "    ax.legend()\n",
    "    plt.grid(True)\n",
    "    plt.show()\n",
    "\n",
    "# == 启动交互滑块 ==\n",
    "interact(\n",
    "    update_plot,\n",
    "    x_shift=FloatSlider(value=0.1, min=0, max=2, step=0.01, description='X位置'),\n",
    "    y_shift=FloatSlider(value=0.1, min=0, max=1.2, step=0.01, description='Y位置'),\n",
    "    theta_deg=FloatSlider(value=0, min=0, max=360, step=1, description='旋转角')\n",
    ");\n"
   ],
   "outputs": [
    {
     "data": {
      "text/plain": [
       "interactive(children=(FloatSlider(value=0.1, description='X位置', max=2.0, step=0.01), FloatSlider(value=0.1, de…"
      ],
      "application/vnd.jupyter.widget-view+json": {
       "version_major": 2,
       "version_minor": 0,
       "model_id": "24e93317670447ac9707c7d538c90a2c"
      }
     },
     "metadata": {},
     "output_type": "display_data"
    }
   ],
   "execution_count": 3
  },
  {
   "metadata": {},
   "cell_type": "code",
   "outputs": [],
   "execution_count": null,
   "source": "",
   "id": "fc32d006726ee58"
  }
 ],
 "metadata": {
  "kernelspec": {
   "display_name": "Python 3",
   "language": "python",
   "name": "python3"
  },
  "language_info": {
   "codemirror_mode": {
    "name": "ipython",
    "version": 2
   },
   "file_extension": ".py",
   "mimetype": "text/x-python",
   "name": "python",
   "nbconvert_exporter": "python",
   "pygments_lexer": "ipython2",
   "version": "2.7.6"
  }
 },
 "nbformat": 4,
 "nbformat_minor": 5
}
